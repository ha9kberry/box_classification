{
 "cells": [
  {
   "cell_type": "markdown",
   "metadata": {},
   "source": [
    "# 品質識別モデル構築\n",
    "ダンボール箱の良品・不良品を識別するモデルの作成\n",
    "- モデル生成の学習の実装\n",
    "- 生成したモデルを利用した推論の実装\n",
    "- 生成したモデルの性能評価レポートの作成\n",
    "\n",
    "### 目次\n",
    "\n",
    "1. 概要\n",
    " - 画像データ\n",
    " - ディレクトリ構成\n",
    " - 開発環境\n",
    "2. データ取得\n",
    " - 初期設定\n",
    " - 画像データの配列変換\n",
    " - データ加工\n",
    " - データ分割\n",
    "3. モデル作成\n",
    " - MobileNetの読み込み\n",
    " - 全結合層の新規作成\n",
    " - ネットワーク再定義\n",
    " - Fine-tuning\n",
    " - Data Augmentation（データ拡張）\n",
    " - Callback（コールバック関数）\n",
    " - モデル学習\n",
    " - 学習曲線のプロット\n",
    " - 学習曲線からの考察\n",
    " - モデル評価\n",
    " - モデル保存\n",
    "4. モデル性能評価\n",
    " - 混同行列作成\n",
    " - 混同行列からの考察\n",
    " - ROC曲線のプロット\n",
    " - ROC曲線からの考察\n",
    " - モデル性能評価まとめ\n",
    "\n",
    "\n",
    "## 1. 概要\n",
    "\n",
    "モデル作成には、軽量で処理速度が速く、比較的精度の高い MobileNet を採用  \n",
    "**Keras 学習済みモデルの MobileNet を Fine-tuning** させ、  良品・不良品の二項分類モデルを作成\n",
    "\n",
    "個人的に各種モデルの精度を検証した過去記事を記載  \n",
    "■ Keras 学習済みモデルを Fine-tuning させて精度比較  \n",
    "https://qiita.com/ha9kberry/items/daa2fc330c71485b2c27\n",
    "\n",
    " \n",
    "\n",
    "\n",
    "### 画像データ\n",
    "- 良品画像\n",
    " - OKディレクトリ内に格納\n",
    " - 枚数：187枚\n",
    "- 不良品画像\n",
    " - NGディレクトリ内に格納\n",
    " - 枚数：186枚\n",
    "- 解像度：72\n",
    "- 画像サイズ：4032 x 3024\n",
    "- RGB\n",
    "\n",
    "良品不良品の偏りのない綺麗なデータであることがわかる\n",
    "\n",
    "### ディレクトリ構成\n",
    "box_classification/  \n",
    "　┣ box_classification.ipynb  \n",
    "　┣ model/（学習済みモデルの保存先）  \n",
    "　　┣ model-opt.hdf5（予測専用の軽量学習済みモデル）  \n",
    "　　┗ model.hdf5（学習済みモデル）  \n",
    "　┗ box-images/  \n",
    "　　┣ NG/  \n",
    "　　┗ OK/  \n",
    "\n",
    "### 開発環境\n",
    "AWS EC2 スポットインスタンス\n",
    "- AMI：Deep Learning AMI (Ubuntu) Version 20.0\n",
    "- インスタンスタイプ：p2.xlarge（GPU compute）\n",
    "- 仮想環境：tensorflow_p36\n",
    "\n",
    "※ ローカル環境で実行する場合\n",
    "- MacBook Pro Mojave 10.14.4\n",
    "- Python 3.6.8\n",
    "- anaconda3-5.2.0\n",
    "- 必要なパッケージのインストール\n",
    " - pip install scikit-learn\n",
    " - pip install tensorflow\n",
    " - pip install keras\n",
    " - pip install Pillow"
   ]
  },
  {
   "cell_type": "code",
   "execution_count": 1,
   "metadata": {},
   "outputs": [
    {
     "name": "stderr",
     "output_type": "stream",
     "text": [
      "/home/ubuntu/anaconda3/envs/tensorflow_p36/lib/python3.6/site-packages/matplotlib/font_manager.py:278: UserWarning: Matplotlib is building the font cache using fc-list. This may take a moment.\n",
      "  'Matplotlib is building the font cache using fc-list. '\n"
     ]
    }
   ],
   "source": [
    "import numpy as np\n",
    "import pandas as pd\n",
    "import matplotlib.pyplot as plt\n",
    "%config InlineBackend.figure_formats = {'png', 'retina'}"
   ]
  },
  {
   "cell_type": "code",
   "execution_count": 3,
   "metadata": {},
   "outputs": [
    {
     "name": "stderr",
     "output_type": "stream",
     "text": [
      "Using TensorFlow backend.\n"
     ]
    }
   ],
   "source": [
    "import os, glob\n",
    "from PIL import Image\n",
    "from sklearn.model_selection import train_test_split\n",
    "from keras.applications.mobilenet import MobileNet\n",
    "from keras.models import Model, load_model\n",
    "from keras.layers.core import Dense\n",
    "from keras.layers.pooling import GlobalAveragePooling2D\n",
    "from keras.optimizers import Adam, RMSprop, SGD\n",
    "from keras.utils.np_utils import to_categorical\n",
    "from keras.callbacks import EarlyStopping, ReduceLROnPlateau\n",
    "from keras.preprocessing.image import ImageDataGenerator"
   ]
  },
  {
   "cell_type": "markdown",
   "metadata": {},
   "source": [
    "## 2. データ取得\n",
    "### 初期設定\n",
    "\n",
    "クラスは OK、NG の２クラス  \n",
    "画像サイズは Keras 学習済み MobileNet が指定する最大のサイズである 224 x 224 にリサイズ"
   ]
  },
  {
   "cell_type": "code",
   "execution_count": 11,
   "metadata": {},
   "outputs": [],
   "source": [
    "class_list = ['OK','NG']\n",
    "img_dir = 'box-images/'\n",
    "img_width, img_height = 224, 224"
   ]
  },
  {
   "cell_type": "markdown",
   "metadata": {},
   "source": [
    "### 画像データの配列変換\n",
    "良品・不良品の画像データを読み込み、配列データに変換  \n",
    "OKは０、NGは１にラベリング"
   ]
  },
  {
   "cell_type": "code",
   "execution_count": 12,
   "metadata": {},
   "outputs": [],
   "source": [
    "def im2array():\n",
    "    X = []\n",
    "    y = []\n",
    "    for class_name in class_list:\n",
    "        file_list = glob.glob(img_dir + class_name + '/*')\n",
    "        for i, file_path in enumerate(file_list):\n",
    "            im = Image.open(file_path)\n",
    "            im = im.resize((img_width, img_height))\n",
    "            data = np.asarray(im)\n",
    "            X.append(data)\n",
    "            y.append(class_list.index(class_name))\n",
    "    X = np.array(X)\n",
    "    y = np.array(y)\n",
    "    return X, y"
   ]
  },
  {
   "cell_type": "code",
   "execution_count": 13,
   "metadata": {
    "scrolled": false
   },
   "outputs": [
    {
     "name": "stdout",
     "output_type": "stream",
     "text": [
      "X.shape :  (373, 224, 224, 3)\n",
      "y.shape :  (373,)\n",
      "CPU times: user 1min 2s, sys: 6.08 s, total: 1min 9s\n",
      "Wall time: 1min 9s\n"
     ]
    }
   ],
   "source": [
    "%%time\n",
    "X, y = im2array()\n",
    "print('X.shape : ', X.shape)\n",
    "print('y.shape : ', y.shape)"
   ]
  },
  {
   "cell_type": "markdown",
   "metadata": {},
   "source": [
    "### データ加工"
   ]
  },
  {
   "cell_type": "code",
   "execution_count": 14,
   "metadata": {},
   "outputs": [
    {
     "name": "stdout",
     "output_type": "stream",
     "text": [
      "X.shape :  (373, 224, 224, 3)\n",
      "y.shape :  (373, 2)\n"
     ]
    }
   ],
   "source": [
    "# データ型の変換＆正規化\n",
    "X = X.astype('float32') / 255\n",
    "# one-hot表現に変換\n",
    "num_classes = len(class_list)\n",
    "y = to_categorical(y, num_classes = num_classes)\n",
    "print('X.shape : ', X.shape)\n",
    "print('y.shape : ', y.shape)"
   ]
  },
  {
   "cell_type": "markdown",
   "metadata": {},
   "source": [
    "### データ分割\n",
    "データセットをtrainデータ / validデータ / testデータに分割  \n",
    "各データに偏りがないよう、正解ラベルによる**層化サンプリング（stratify）**をパラメータに実装  \n",
    "（正解ラベルに偏りがあると、少数ラベルの分類精度が低いモデルになる）\n"
   ]
  },
  {
   "cell_type": "code",
   "execution_count": 15,
   "metadata": {},
   "outputs": [
    {
     "name": "stdout",
     "output_type": "stream",
     "text": [
      "X_train.shape :  (238, 224, 224, 3)\n",
      "y_train.shape :  (238, 2)\n",
      "X_valid.shape :  (60, 224, 224, 3)\n",
      "y_valid.shape :  (60, 2)\n",
      "X_test.shape :  (75, 224, 224, 3)\n",
      "y_test.shape :  (75, 2)\n"
     ]
    }
   ],
   "source": [
    "# trainとtestに分割\n",
    "X_train, X_test, y_train, y_test = train_test_split(\n",
    "    X, y,\n",
    "    random_state = 0,\n",
    "    stratify =y,\n",
    "    test_size = 0.2\n",
    ")\n",
    "# trainからvalidを分割\n",
    "X_train, X_valid, y_train, y_valid = train_test_split(\n",
    "    X_train,\n",
    "    y_train,\n",
    "    random_state = 0,\n",
    "    stratify =y_train,\n",
    "    test_size = 0.2\n",
    ")\n",
    "print('X_train.shape : ', X_train.shape)\n",
    "print('y_train.shape : ', y_train.shape)\n",
    "print('X_valid.shape : ', X_valid.shape)\n",
    "print('y_valid.shape : ', y_valid.shape)\n",
    "print('X_test.shape : ', X_test.shape)\n",
    "print('y_test.shape : ', y_test.shape)"
   ]
  },
  {
   "cell_type": "code",
   "execution_count": 16,
   "metadata": {},
   "outputs": [
    {
     "name": "stdout",
     "output_type": "stream",
     "text": [
      "y_train_0 :  119\n",
      "y_train_1 :  119\n",
      "y_valid_0 :  30\n",
      "y_valid_1 :  30\n",
      "y_test_0 :  37\n",
      "y_test_1 :  38\n"
     ]
    }
   ],
   "source": [
    "# 正解ラベルが偏りなく分類できているか確認\n",
    "print('y_train_0 : ', sum(y_train[:,0] == 0))\n",
    "print('y_train_1 : ', sum(y_train[:,0] == 1))\n",
    "print('y_valid_0 : ', sum(y_valid[:,0] == 0))\n",
    "print('y_valid_1 : ', sum(y_valid[:,0] == 1))\n",
    "print('y_test_0 : ', sum(y_test[:,0] == 0))\n",
    "print('y_test_1 : ', sum(y_test[:,0] == 1))"
   ]
  },
  {
   "cell_type": "markdown",
   "metadata": {},
   "source": [
    "偏りなく分割できている"
   ]
  },
  {
   "cell_type": "markdown",
   "metadata": {},
   "source": [
    "## 3. モデル作成"
   ]
  },
  {
   "cell_type": "markdown",
   "metadata": {},
   "source": [
    "### MobileNetの読み込み\n",
    "Keras 学習済みモデルの MobileNet を読み込む  \n",
    "- 新たに二項分類モデルを構築するため、ネットワークの出力層側にある全結合層の除去（include_top = False）  \n",
    "- ImageNetで学習した重みを使用（weights = 'imagenet'）"
   ]
  },
  {
   "cell_type": "code",
   "execution_count": 17,
   "metadata": {},
   "outputs": [
    {
     "name": "stdout",
     "output_type": "stream",
     "text": [
      "Downloading data from https://github.com/fchollet/deep-learning-models/releases/download/v0.6/mobilenet_1_0_224_tf_no_top.h5\n",
      "17227776/17225924 [==============================] - 3s 0us/step\n"
     ]
    }
   ],
   "source": [
    "base_model = MobileNet(\n",
    "    include_top = False,\n",
    "    weights = 'imagenet',\n",
    "    input_shape = (img_width, img_height, 3)\n",
    ")"
   ]
  },
  {
   "cell_type": "markdown",
   "metadata": {},
   "source": [
    "### 全結合層の新規作成\n",
    "二項分類させるための全結合層を新たに作成\n",
    "\n",
    "** GlobalAveragePooling2D **  \n",
    "各特徴マップごとに平均値を算出し１次元に変換（各特徴マップのサイズは1×1）  \n",
    "この後の全結合層につなぐことができる"
   ]
  },
  {
   "cell_type": "code",
   "execution_count": 18,
   "metadata": {},
   "outputs": [],
   "source": [
    "x = base_model.output\n",
    "x = GlobalAveragePooling2D()(x)\n",
    "x = Dense(1024, activation = 'relu')(x)\n",
    "predictions = Dense(num_classes, activation = 'softmax')(x)"
   ]
  },
  {
   "cell_type": "markdown",
   "metadata": {},
   "source": [
    "### ネットワーク再定義\n",
    "新たな全結合層を出力層側に実装し MobileNet ネットワークを再定義"
   ]
  },
  {
   "cell_type": "code",
   "execution_count": 19,
   "metadata": {},
   "outputs": [
    {
     "name": "stdout",
     "output_type": "stream",
     "text": [
      "90層\n"
     ]
    }
   ],
   "source": [
    "model = Model(inputs = base_model.input, outputs = predictions)\n",
    "print('{}層'.format(len(model.layers)))"
   ]
  },
  {
   "cell_type": "markdown",
   "metadata": {},
   "source": [
    "### Fine-tuning\n",
    "\n",
    "MobileNet を新たな画像データで Fine-tuning  \n",
    "一般的に CNN では**浅い層ほど色やエッジ、ブロブなど汎用的な特徴が抽出**され、**深い層ほど学習データに特化した特徴が抽出**される傾向にある  \n",
    "そこで浅い層の（すでに ImageNet で学習した）汎用的な特徴抽出はそのまま固定（freeze）させ、深い層の重みのみタスクに合わせて再学習させる\n",
    "\n",
    "- 全90層のうち、およそ8割にあたる**入力層側72層を freeze**\n",
    "- ただし、ミニバッチの正規化は必要なので、**Batch Normalization は freeze を解除**させる。\n",
    "- 上記を除く、およそ**2割の層内にある畳み込み層と全結合層の重みを学習**させる。"
   ]
  },
  {
   "cell_type": "code",
   "execution_count": 20,
   "metadata": {},
   "outputs": [],
   "source": [
    "# 72層までfreeze\n",
    "for layer in model.layers[:72]:\n",
    "    layer.trainable = False\n",
    "\n",
    "    # Batch Normalization の freeze解除\n",
    "    if 'bn' in layer.name:\n",
    "        layer.trainable = True\n",
    "\n",
    "#73層以降、学習させる\n",
    "for layer in model.layers[72:]:\n",
    "    layer.trainable = True\n",
    "\n",
    "# layer.trainableの設定後にcompile\n",
    "model.compile(\n",
    "    optimizer = Adam(),\n",
    "    loss = 'categorical_crossentropy',\n",
    "    metrics = ['accuracy']\n",
    ")"
   ]
  },
  {
   "cell_type": "markdown",
   "metadata": {},
   "source": [
    "### Data Augmentation（データ拡張）\n",
    "画像データが比較的少なく、学習モデル生成の際、過学習を引き起こす可能性が想定される  \n",
    "過学習を緩和するため、学習データからのミニバッチごとに指定した変換処理を加えるデータの水増し（データ拡張）を実装  \n",
    "水増しすることで、同じデータでの学習がなくなり、汎化性能が改善される傾向にある"
   ]
  },
  {
   "cell_type": "code",
   "execution_count": 21,
   "metadata": {},
   "outputs": [],
   "source": [
    "datagen = ImageDataGenerator(\n",
    "    featurewise_center = False,\n",
    "    samplewise_center = False,\n",
    "    featurewise_std_normalization = False,\n",
    "    samplewise_std_normalization = False,\n",
    "    zca_whitening = False,\n",
    "    # -10°〜10°の回転移動\n",
    "    rotation_range = 10,\n",
    "    # -10%〜10%の左右平行移動\n",
    "    width_shift_range = 0.1,\n",
    "    # -10%〜10%の上下平行移動\n",
    "    height_shift_range = 0.1,\n",
    "    # ランダムに左右反転\n",
    "    horizontal_flip = True,\n",
    "    # ランダムに上下反転\n",
    "    vertical_flip = True\n",
    ")"
   ]
  },
  {
   "cell_type": "markdown",
   "metadata": {},
   "source": [
    "### Callback（コールバック関数）\n",
    "\n",
    "**EarlyStopping**  \n",
    "監視する値の変化が停止した時に学習を終了させることで （モデルの精度との直接的な関係性はないが）無駄な学習時間を減らすことができる\n",
    "\n",
    "**ReduceLROnPlateau**  \n",
    "監視する値の改善が止まった時に学習率を減らすことで、より効率的に精度の高いモデルを生成することができる"
   ]
  },
  {
   "cell_type": "code",
   "execution_count": 22,
   "metadata": {},
   "outputs": [],
   "source": [
    "# EarlyStopping\n",
    "early_stopping = EarlyStopping(\n",
    "    # 監視する値\n",
    "    monitor='val_loss',\n",
    "    # 値が改善しなくなってからのエポック数\n",
    "    patience=10,\n",
    "    verbose=1\n",
    ")\n",
    "\n",
    "# ReduceLROnPlateau\n",
    "reduce_lr = ReduceLROnPlateau(\n",
    "    # 監視する値\n",
    "    monitor='val_loss',\n",
    "    # 値が改善しなくなってからのエポック数\n",
    "    patience=3,\n",
    "    # 学習率を減らす割合\n",
    "    factor=0.1,\n",
    "    verbose=1\n",
    ")"
   ]
  },
  {
   "cell_type": "markdown",
   "metadata": {},
   "source": [
    "### モデル学習"
   ]
  },
  {
   "cell_type": "code",
   "execution_count": 23,
   "metadata": {
    "scrolled": false
   },
   "outputs": [
    {
     "name": "stdout",
     "output_type": "stream",
     "text": [
      "Epoch 1/50\n",
      "7/7 [==============================] - 45s 6s/step - loss: 2.2059 - acc: 0.5714 - val_loss: 0.4383 - val_acc: 0.8500\n",
      "Epoch 2/50\n",
      "7/7 [==============================] - 2s 294ms/step - loss: 0.9051 - acc: 0.7001 - val_loss: 2.0663 - val_acc: 0.5333\n",
      "Epoch 3/50\n",
      "7/7 [==============================] - 2s 234ms/step - loss: 0.6781 - acc: 0.7357 - val_loss: 0.3447 - val_acc: 0.8833\n",
      "Epoch 4/50\n",
      "7/7 [==============================] - 2s 234ms/step - loss: 0.4178 - acc: 0.8195 - val_loss: 0.3443 - val_acc: 0.8667\n",
      "Epoch 5/50\n",
      "7/7 [==============================] - 2s 235ms/step - loss: 0.4581 - acc: 0.7728 - val_loss: 0.3961 - val_acc: 0.8333\n",
      "Epoch 6/50\n",
      "7/7 [==============================] - 2s 233ms/step - loss: 0.2953 - acc: 0.8591 - val_loss: 0.3631 - val_acc: 0.8833\n",
      "Epoch 7/50\n",
      "7/7 [==============================] - 2s 291ms/step - loss: 0.3647 - acc: 0.8214 - val_loss: 0.3900 - val_acc: 0.8500\n",
      "\n",
      "Epoch 00007: ReduceLROnPlateau reducing learning rate to 0.00010000000474974513.\n",
      "Epoch 8/50\n",
      "7/7 [==============================] - 2s 312ms/step - loss: 0.2968 - acc: 0.8771 - val_loss: 0.3334 - val_acc: 0.8833\n",
      "Epoch 9/50\n",
      "7/7 [==============================] - 2s 329ms/step - loss: 0.2486 - acc: 0.9018 - val_loss: 0.3048 - val_acc: 0.9000\n",
      "Epoch 10/50\n",
      "7/7 [==============================] - 2s 325ms/step - loss: 0.2996 - acc: 0.8450 - val_loss: 0.2977 - val_acc: 0.8833\n",
      "Epoch 11/50\n",
      "7/7 [==============================] - 2s 319ms/step - loss: 0.3037 - acc: 0.8455 - val_loss: 0.2913 - val_acc: 0.9000\n",
      "Epoch 12/50\n",
      "7/7 [==============================] - 2s 320ms/step - loss: 0.2340 - acc: 0.9007 - val_loss: 0.2885 - val_acc: 0.9000\n",
      "Epoch 13/50\n",
      "7/7 [==============================] - 2s 315ms/step - loss: 0.2109 - acc: 0.8952 - val_loss: 0.2857 - val_acc: 0.8833\n",
      "Epoch 14/50\n",
      "7/7 [==============================] - 2s 306ms/step - loss: 0.2845 - acc: 0.8731 - val_loss: 0.2854 - val_acc: 0.8833\n",
      "Epoch 15/50\n",
      "7/7 [==============================] - 2s 316ms/step - loss: 0.2484 - acc: 0.9002 - val_loss: 0.2891 - val_acc: 0.8833\n",
      "Epoch 16/50\n",
      "7/7 [==============================] - 2s 310ms/step - loss: 0.2160 - acc: 0.9042 - val_loss: 0.2931 - val_acc: 0.8667\n",
      "Epoch 17/50\n",
      "7/7 [==============================] - 2s 341ms/step - loss: 0.2503 - acc: 0.8973 - val_loss: 0.2892 - val_acc: 0.8667\n",
      "\n",
      "Epoch 00017: ReduceLROnPlateau reducing learning rate to 1.0000000474974514e-05.\n",
      "Epoch 18/50\n",
      "7/7 [==============================] - 2s 299ms/step - loss: 0.2383 - acc: 0.8816 - val_loss: 0.2897 - val_acc: 0.8667\n",
      "Epoch 19/50\n",
      "7/7 [==============================] - 2s 311ms/step - loss: 0.2381 - acc: 0.8962 - val_loss: 0.2925 - val_acc: 0.8667\n",
      "Epoch 20/50\n",
      "7/7 [==============================] - 2s 313ms/step - loss: 0.2200 - acc: 0.9042 - val_loss: 0.2953 - val_acc: 0.8667\n",
      "\n",
      "Epoch 00020: ReduceLROnPlateau reducing learning rate to 1.0000000656873453e-06.\n",
      "Epoch 21/50\n",
      "7/7 [==============================] - 2s 312ms/step - loss: 0.2177 - acc: 0.9042 - val_loss: 0.2965 - val_acc: 0.8667\n",
      "Epoch 22/50\n",
      "7/7 [==============================] - 2s 315ms/step - loss: 0.2908 - acc: 0.8365 - val_loss: 0.2975 - val_acc: 0.8667\n",
      "Epoch 23/50\n",
      "7/7 [==============================] - 2s 307ms/step - loss: 0.2730 - acc: 0.8485 - val_loss: 0.2995 - val_acc: 0.8667\n",
      "\n",
      "Epoch 00023: ReduceLROnPlateau reducing learning rate to 1.0000001111620805e-07.\n",
      "Epoch 24/50\n",
      "7/7 [==============================] - 2s 303ms/step - loss: 0.2763 - acc: 0.8586 - val_loss: 0.3015 - val_acc: 0.8667\n",
      "Epoch 00024: early stopping\n",
      "CPU times: user 1min 29s, sys: 7.88 s, total: 1min 37s\n",
      "Wall time: 1min 36s\n"
     ]
    }
   ],
   "source": [
    "%%time\n",
    "hist = model.fit_generator(\n",
    "    datagen.flow(X_train, y_train, batch_size = 32),\n",
    "    steps_per_epoch = X_train.shape[0] // 32,\n",
    "    epochs = 50,\n",
    "    validation_data = (X_valid, y_valid),\n",
    "    callbacks = [early_stopping, reduce_lr],\n",
    "    shuffle = True,\n",
    "    verbose = 1\n",
    ")"
   ]
  },
  {
   "cell_type": "markdown",
   "metadata": {},
   "source": [
    "### 学習曲線のプロット\n",
    "各エポックごとのモデルの Accuracy（精度）と Loss（損失値）の学習曲線をプロット"
   ]
  },
  {
   "cell_type": "code",
   "execution_count": 25,
   "metadata": {},
   "outputs": [
    {
     "data": {
      "image/png": "[encoded data removed]",
      "text/plain": [
       "<Figure size 1296x432 with 2 Axes>"
      ]
     },
     "metadata": {
      "image/png": {
       "height": 386,
       "width": 1063
      }
     },
     "output_type": "display_data"
    }
   ],
   "source": [
    "plt.figure(figsize = (18,6))\n",
    "\n",
    "# accuracy\n",
    "plt.subplot(1, 2, 1)\n",
    "plt.plot(hist.history['acc'], label = 'acc', marker = 'o')\n",
    "plt.plot(hist.history['val_acc'], label = 'val_acc', marker = 'o')\n",
    "plt.xlabel('Epoch')\n",
    "plt.ylabel('Accuracy')\n",
    "plt.title('Accuracy Learning Curve')\n",
    "plt.legend(loc = 'best')\n",
    "plt.grid(color = 'gray', alpha = 0.2)\n",
    "\n",
    "# loss\n",
    "plt.subplot(1, 2, 2)\n",
    "plt.plot(hist.history['loss'], label = 'loss', marker = 'o')\n",
    "plt.plot(hist.history['val_loss'], label = 'val_loss', marker = 'o')\n",
    "plt.xlabel('Epoch')\n",
    "plt.ylabel('Loss')\n",
    "plt.title('Loss Learning Curve')\n",
    "plt.legend(loc = 'best')\n",
    "plt.grid(color = 'gray', alpha = 0.2)\n",
    "\n",
    "plt.show()"
   ]
  },
  {
   "cell_type": "markdown",
   "metadata": {},
   "source": [
    "### 学習曲線からの考察"
   ]
  },
  {
   "cell_type": "markdown",
   "metadata": {},
   "source": [
    "学習曲線から判断する限り、極端な過学習なく収束しており、Accuracy, Loss ともに決して悪い数値ではないと考える。  \n",
    "Accuracy 学習曲線の上下振動に着目する。考えられる要因として下記を挙げる。\n",
    "\n",
    "- 学習率が高い。学習のたびに損失関数の最適解を跨いで反復するため、loss をなかなか下げることができない。\n",
    "- 最適な optimizer ではない。\n",
    "- データ拡張しているとはいえ、そもそも画像データが少ない。（未学習の観点からも同様のことが言える）\n",
    "\n",
    "以上を解決することで、より高精度での収束が期待できる。\n",
    "\n"
   ]
  },
  {
   "cell_type": "markdown",
   "metadata": {},
   "source": [
    "### モデル評価\n",
    "testデータを使って学習モデルの汎化精度を確認"
   ]
  },
  {
   "cell_type": "code",
   "execution_count": 26,
   "metadata": {},
   "outputs": [
    {
     "name": "stdout",
     "output_type": "stream",
     "text": [
      "75/75 [==============================] - 0s 6ms/step\n",
      "evaluate loss: 0.27552801559368767\n",
      "evaluate acc: 0.88\n"
     ]
    }
   ],
   "source": [
    "score = model.evaluate(X_test, y_test, verbose=1)\n",
    "print('evaluate loss: {0[0]}'.format(score))\n",
    "print('evaluate acc: {0[1]}'.format(score))"
   ]
  },
  {
   "cell_type": "markdown",
   "metadata": {},
   "source": [
    "### モデル保存"
   ]
  },
  {
   "cell_type": "code",
   "execution_count": 27,
   "metadata": {},
   "outputs": [],
   "source": [
    "model_dir = './model/'\n",
    "if os.path.exists(model_dir) == False:os.mkdir(model_dir)\n",
    "# 学習済みモデル保存\n",
    "model.save(model_dir + 'model.hdf5')\n",
    "# optimizerのない学習済み軽量モデルを保存（学習や評価は不可だが、予測は可能）\n",
    "model.save(model_dir + 'model-opt.hdf5', include_optimizer = False)"
   ]
  },
  {
   "cell_type": "code",
   "execution_count": null,
   "metadata": {},
   "outputs": [],
   "source": [
    "# 学習済みモデルを読み込む場合\n",
    "#model = load_model(model_dir + 'model.hdf5')\n",
    "# ptimizerのない学習済み軽量モデルを読み込む場合\n",
    "#model = load_model(model_dir + 'model-opt.hdf5', compile = False)"
   ]
  },
  {
   "cell_type": "markdown",
   "metadata": {},
   "source": [
    "## 4. モデル性能評価"
   ]
  },
  {
   "cell_type": "code",
   "execution_count": 28,
   "metadata": {},
   "outputs": [
    {
     "data": {
      "text/plain": [
       "array([1, 1, 0, 0, 1, 0, 1, 1, 0, 1, 0, 0, 1, 1, 1, 1, 1, 1, 0, 1, 0, 1,\n",
       "       0, 0, 0, 1, 0, 0, 0, 0, 1, 1, 1, 0, 0, 1, 1, 0, 1, 0, 1, 1, 1, 1,\n",
       "       0, 1, 0, 0, 1, 0, 0, 0, 1, 0, 0, 1, 1, 1, 1, 0, 1, 0, 1, 1, 0, 0,\n",
       "       0, 0, 0, 1, 1, 1, 1, 1, 0])"
      ]
     },
     "execution_count": 28,
     "metadata": {},
     "output_type": "execute_result"
    }
   ],
   "source": [
    "# testデータの予測確率から1次元配列の予測ラベルを作成（閾値：0.5）\n",
    "y_prob = model.predict(X_test)\n",
    "y_pred = np.argmax(y_prob,axis=1)\n",
    "y_pred"
   ]
  },
  {
   "cell_type": "code",
   "execution_count": 29,
   "metadata": {},
   "outputs": [
    {
     "data": {
      "text/plain": [
       "array([1, 1, 0, 0, 0, 0, 1, 1, 0, 0, 0, 0, 1, 1, 1, 1, 0, 1, 0, 1, 0, 1,\n",
       "       0, 0, 0, 1, 0, 1, 0, 1, 1, 1, 0, 0, 0, 1, 1, 0, 1, 0, 1, 1, 1, 1,\n",
       "       0, 1, 0, 0, 0, 0, 0, 0, 1, 0, 0, 1, 1, 1, 1, 1, 1, 0, 0, 1, 0, 0,\n",
       "       0, 0, 0, 1, 1, 1, 1, 1, 0])"
      ]
     },
     "execution_count": 29,
     "metadata": {},
     "output_type": "execute_result"
    }
   ],
   "source": [
    "# testデータの正解ラベルを one-hot 表現から１次元配列に変換\n",
    "y_test = np.argmax(y_test,axis=1)\n",
    "y_test"
   ]
  },
  {
   "cell_type": "markdown",
   "metadata": {},
   "source": [
    "### 混同行列作成\n",
    "\n",
    "testデータの予測ラベル（閾値：0.5）と正解ラベルから混合行列を作成\n",
    "\n",
    "| | Positive（不良品予測） | Negative（良品予測） |\n",
    "| ---- | ---- | ---- |\n",
    "| True（不良品） | TP（真陽性） | FN（偽陰性） |\n",
    "| False（良品） | FP（偽陽性） | TN（真陰性） |"
   ]
  },
  {
   "cell_type": "code",
   "execution_count": 30,
   "metadata": {},
   "outputs": [
    {
     "data": {
      "text/plain": [
       "array([[34,  3],\n",
       "       [ 6, 32]])"
      ]
     },
     "execution_count": 30,
     "metadata": {},
     "output_type": "execute_result"
    }
   ],
   "source": [
    "# 混同行列作成\n",
    "from sklearn.metrics import confusion_matrix\n",
    "labels=[1, 0]\n",
    "conf_mat=confusion_matrix(y_test, y_pred, labels)\n",
    "conf_mat"
   ]
  },
  {
   "cell_type": "code",
   "execution_count": 31,
   "metadata": {},
   "outputs": [
    {
     "name": "stdout",
     "output_type": "stream",
     "text": [
      "真陽性： 34\n",
      "偽陰性： 3\n",
      "偽陽性： 6\n",
      "真陰性： 32\n"
     ]
    }
   ],
   "source": [
    "# 混同行列指標\n",
    "(TP, FN, FP, TN) = conf_mat.ravel()\n",
    "print('真陽性：',TP)\n",
    "print('偽陰性：',FN)\n",
    "print('偽陽性：',FP)\n",
    "print('真陰性：',TN)"
   ]
  },
  {
   "cell_type": "markdown",
   "metadata": {},
   "source": [
    "### 混同行列からの考察\n",
    "真陽性=34, 真陰性=32 が偽陰性=3, 偽陽性=6 に比べ、高い数値を計測しており、**良品・不良品をそれぞれに振り分ける能力が相対的に高いモデル**であることがわかる。（前述のモデル評価で Accuracy を確認しているが）混同行列から精度を算出してみる。"
   ]
  },
  {
   "cell_type": "code",
   "execution_count": 32,
   "metadata": {},
   "outputs": [
    {
     "name": "stdout",
     "output_type": "stream",
     "text": [
      "Accuracy（精度）： 0.88\n"
     ]
    }
   ],
   "source": [
    "# Accuracy（精度）\n",
    "print('Accuracy（精度）：', (TP + TN) / (TP + FN + FP + TN))"
   ]
  },
  {
   "cell_type": "markdown",
   "metadata": {},
   "source": [
    "だが本課題は品質識別であり、いくら精度が高くても、**どれだけ不良品を取りこぼさないで分類できたか（再現率）が重要**である。  \n",
    "つまり良品を良品と予測することはそれほど重要ではなく、良品を不良品と予測する割合が多少高くても、大きな問題ではない。\n",
    "\n",
    "その観点から混同行列をもう一度見てみると、偽陰性=3, 偽陽性=6 ということで、不良品を良品と予測している数のほうが、良品を不良品と予測している数よりも相対的に少ない。混同行列から再現率・適合率を算出してみると、**再現率が相対的に高いモデル**であることがわかる。"
   ]
  },
  {
   "cell_type": "code",
   "execution_count": 33,
   "metadata": {},
   "outputs": [
    {
     "name": "stdout",
     "output_type": "stream",
     "text": [
      "Recall（再現率）： 0.918918918918919\n",
      "Precision（適合率）： 0.85\n"
     ]
    }
   ],
   "source": [
    "# Recall（再現率）\n",
    "print('Recall（再現率）：', TP  / (TP + FN))\n",
    "# Precision（適合率）\n",
    "print('Precision（適合率）：', TP / (TP + FP))"
   ]
  },
  {
   "cell_type": "markdown",
   "metadata": {},
   "source": [
    "精度=0.88に着目すると、100箱中88箱、良品・不良品を振り分けることができるモデルということになるが、本課題の目的に即して、再現率=0.91に着目すると、100箱の不良品から91箱の不良品を予測することができるモデルということになる。\n",
    "\n",
    "また適合率=0.85についても言及すると、不良品100箱を予測した場合、その中に良品が15箱混じっていることになる。不良品100箱を再検査するコストに比べて、ダンボール1箱の単価が取るに足らないのであれば、そのまま無視していいのだが、そうでないのであれば適合率も重要な評価指標になる。  \n",
    "その場合、学習モデルの性能を比較評価する際の指標として、再現率・適合率ともに着目したF-measure（F値）も必要になってくる。"
   ]
  },
  {
   "cell_type": "code",
   "execution_count": 34,
   "metadata": {},
   "outputs": [
    {
     "name": "stdout",
     "output_type": "stream",
     "text": [
      "F-measure（F値）： 0.8831168831168831\n"
     ]
    }
   ],
   "source": [
    "# F-measure（F値）\n",
    "recall = TP  / (TP + FN)\n",
    "precision = TP / (TP + FP)\n",
    "print('F-measure（F値）：', 2 * (precision * recall) / (precision + recall))"
   ]
  },
  {
   "cell_type": "markdown",
   "metadata": {},
   "source": [
    "### ROC曲線のプロット\n",
    "\n",
    "test データの予測確率と正解ラベルから各閾値ごとの FPR（偽陽性率）, TPR（真陽性率）を算出し ROC曲線をプロット  \n",
    "また学習モデルの性能を比較評価する際の指標として AUC（ROC曲線下面積）も出力する"
   ]
  },
  {
   "cell_type": "code",
   "execution_count": 35,
   "metadata": {},
   "outputs": [
    {
     "data": {
      "image/png": "[encoded data removed]",
      "text/plain": [
       "<Figure size 576x432 with 1 Axes>"
      ]
     },
     "metadata": {
      "image/png": {
       "height": 386,
       "width": 499
      }
     },
     "output_type": "display_data"
    },
    {
     "name": "stdout",
     "output_type": "stream",
     "text": [
      "AUC： 0.9530583214793742\n"
     ]
    }
   ],
   "source": [
    "# ROC曲線\n",
    "from sklearn.metrics import roc_curve\n",
    "FPR, TPR, thresholds= roc_curve(y_test, y_prob[:,1])\n",
    "plt.figure(figsize=(8,6))\n",
    "plt.plot(FPR, TPR)\n",
    "plt.title('ROC Curve')\n",
    "plt.xlabel('False Positive Rate')\n",
    "plt.ylabel('True Positive Rate')\n",
    "plt.show()\n",
    "\n",
    "# AUC\n",
    "from sklearn.metrics import auc\n",
    "print('AUC：', auc(FPR, TPR))"
   ]
  },
  {
   "cell_type": "code",
   "execution_count": 36,
   "metadata": {},
   "outputs": [
    {
     "data": {
      "text/plain": [
       "array([0.99999225, 0.9720871 , 0.94792205, 0.88776463, 0.8751079 ,\n",
       "       0.84828377, 0.7431593 , 0.6789197 , 0.49340355, 0.4294763 ,\n",
       "       0.08352467, 0.07364784, 0.05312658, 0.04410998, 0.00166341],\n",
       "      dtype=float32)"
      ]
     },
     "execution_count": 36,
     "metadata": {},
     "output_type": "execute_result"
    }
   ],
   "source": [
    "# 閾値\n",
    "thresholds"
   ]
  },
  {
   "cell_type": "markdown",
   "metadata": {},
   "source": [
    "### ★ ROC曲線からの考察"
   ]
  },
  {
   "cell_type": "markdown",
   "metadata": {},
   "source": [
    "ROC曲線は左から右に閾値が高い順に真陽性率, 偽陽性率をプロットした曲線である。  \n",
    "閾値が高い時点で真陽性率（=再現率）も高い値を計測しており、これは**高い予測確率で不良品の中から不良品を分類しているケースが多いモデル**であることがわかる。\n",
    "\n",
    "一般的に偏りがあるデータでモデルを学習させると、たとえ精度の数値が良くても、少数派の分類の予測確率が下がり、高閾値での真陽性率が下がり、AUCが低くなる傾向がある。今回もともとの画像データやデータ分割に偏りはなく、その効果があらわれているように思う。"
   ]
  },
  {
   "cell_type": "markdown",
   "metadata": {},
   "source": [
    "### モデル性能評価まとめ"
   ]
  },
  {
   "cell_type": "markdown",
   "metadata": {},
   "source": [
    "- 良品・不良品をそれぞれに振り分ける能力が相対的に高いモデルではあるが、精度 0.88 を計測。\n",
    "- 本課題は、どれだけ不良品を取りこぼさないで分類できたかが重要であると考え、再現率を確認すると 0.91 を計測。  \n",
    "再現率が相対的に高いモデルと言える。\n",
    "- ROC曲線から、高い予測確率で不良品の中から不良品を分類しているケースが多いモデルと言え、AUC も 0.95 と高い。"
   ]
  },
  {
   "cell_type": "code",
   "execution_count": null,
   "metadata": {},
   "outputs": [],
   "source": []
  },
  {
   "cell_type": "code",
   "execution_count": null,
   "metadata": {},
   "outputs": [],
   "source": []
  },
  {
   "cell_type": "code",
   "execution_count": null,
   "metadata": {},
   "outputs": [],
   "source": []
  },
  {
   "cell_type": "code",
   "execution_count": null,
   "metadata": {},
   "outputs": [],
   "source": []
  },
  {
   "cell_type": "code",
   "execution_count": null,
   "metadata": {},
   "outputs": [],
   "source": []
  }
 ],
 "metadata": {
  "kernelspec": {
   "display_name": "Python 3",
   "language": "python",
   "name": "python3"
  },
  "language_info": {
   "codemirror_mode": {
    "name": "ipython",
    "version": 3
   },
   "file_extension": ".py",
   "mimetype": "text/x-python",
   "name": "python",
   "nbconvert_exporter": "python",
   "pygments_lexer": "ipython3",
   "version": "3.6.8"
  }
 },
 "nbformat": 4,
 "nbformat_minor": 2
}
